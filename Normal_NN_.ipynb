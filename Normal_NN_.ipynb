{
  "nbformat": 4,
  "nbformat_minor": 0,
  "metadata": {
    "colab": {
      "provenance": [],
      "authorship_tag": "ABX9TyOdE7X281gh4TQN2z4CxZEN",
      "include_colab_link": true
    },
    "kernelspec": {
      "name": "python3",
      "display_name": "Python 3"
    },
    "language_info": {
      "name": "python"
    }
  },
  "cells": [
    {
      "cell_type": "markdown",
      "metadata": {
        "id": "view-in-github",
        "colab_type": "text"
      },
      "source": [
        "<a href=\"https://colab.research.google.com/github/afraAntara/590B/blob/main/Normal_NN_.ipynb\" target=\"_parent\"><img src=\"https://colab.research.google.com/assets/colab-badge.svg\" alt=\"Open In Colab\"/></a>"
      ]
    },
    {
      "cell_type": "code",
      "execution_count": null,
      "metadata": {
        "id": "-O4ROnwkZ9TA"
      },
      "outputs": [],
      "source": [
        "import numpy as np\n",
        "import matplotlib.pyplot as plt\n",
        "import random\n",
        "\n",
        "def ode_solution(timestep, t_init, t_end):\n",
        "    a = 0.5  # Example value for k\n",
        "    # Define the range of 'c' from 1 to 10\n",
        "    c_values = range(1, 100)\n",
        "\n",
        "    def f(y, a):\n",
        "      return -a * y\n",
        "\n",
        "\n",
        "    # Define the ODE function\n",
        "    def ode_function(y, a, c):\n",
        "        return f(y, a) + c\n",
        "\n",
        "    # Define the Runge-Kutta 4 method step\n",
        "    def rk4_step(f, t, y, h, a, c):\n",
        "        k1 = f(y, a, c)\n",
        "        k2 = f(y + 0.5 * k1, a, c)\n",
        "        k3 = f(y + 0.5 * k2, a, c)\n",
        "        k4 = f(y + k3, a, c)\n",
        "        return y +((k1 + 2 * k2 + 2 * k3 + k4)*(h/6))\n",
        "\n",
        "    # Parameters for solving the ODE\n",
        "    t0 = t_init\n",
        "    y0 = 0  # Initial condition\n",
        "    h = timestep  # Step size\n",
        "    # Initialize arrays for t values and y values\n",
        "    t_values = np.arange(t0, t_end, h)\n",
        "    y_values = [y0]\n",
        "    c = random.choice(list(c_values))\n",
        "    c_val = [c]\n",
        "    a_val = [a] * len(t_values)\n",
        "\n",
        "    # Solving the ODE using RK4 method\n",
        "    for t in t_values[:-1]:\n",
        "        c_val.append(c)\n",
        "        if round(t) % 10 == 0:\n",
        "            # Select a random value from c_values\n",
        "            c = random.choice(list(c_values))\n",
        "        y_values.append(rk4_step(ode_function, t, y_values[-1], h, a, c))\n",
        "\n",
        "    data = np.column_stack((t_values, y_values, a_val, c_val))\n",
        "\n",
        "    return data\n",
        "\n",
        "\n",
        "def plot(data):\n",
        "    t = data[:,0]\n",
        "    y = data[:,1]\n",
        "    # Plotting the results\n",
        "    plt.figure(figsize=(12, 6))\n",
        "    plt.plot(t, y)\n",
        "    plt.title('Solution of the ODE')\n",
        "    plt.xlabel('Timesteps')\n",
        "    plt.ylabel('x(t)')\n",
        "    plt.grid(True)\n",
        "    plt.show()\n"
      ]
    },
    {
      "cell_type": "code",
      "source": [
        "import torch\n",
        "import torch.nn as nn\n",
        "import numpy as np\n",
        "from sklearn.model_selection import train_test_split\n",
        "\n",
        "class RungeKuttaNNPyTorch(nn.Module):\n",
        "    def __init__(self, timestep, t_init, t_end, n_var, n_out, n_oppar, n_hidden1=10):\n",
        "        super(RungeKuttaNNPyTorch, self).__init__()\n",
        "        self.timestep = timestep\n",
        "        self.t_init = t_init\n",
        "        self.t_end = t_end\n",
        "        self.n_var = n_var\n",
        "        self.n_out = n_out\n",
        "        self.n_oppar = n_oppar\n",
        "        self.n_inputs = n_var + n_oppar\n",
        "\n",
        "        # Define the layers\n",
        "        self.layer_1 = nn.Linear(self.n_inputs, n_hidden1)\n",
        "        # self.layer_2 = nn.Linear(n_hidden1, n_hidden2)\n",
        "        self.output_layer = nn.Linear(n_hidden1, n_out)\n",
        "\n",
        "    def forward(self, y, a, c, x):\n",
        "        # Forward pass through the network\n",
        "        stack = torch.cat([y, a, c], dim=1)\n",
        "        layer_1_out = torch.sigmoid(self.layer_1(stack))\n",
        "        # layer_2_out = torch.relu(self.layer_2(layer_1_out))\n",
        "        out = self.output_layer(layer_1_out)\n",
        "        return out\n",
        "\n",
        "\n",
        "# Instantiate the model with arbitrary parameters\n",
        "model = RungeKuttaNNPyTorch(timestep=0.01, t_init=0, t_end=10, n_var=2, n_out=1, n_oppar=1)\n",
        "\n",
        "# Print model structure\n",
        "print(model)"
      ],
      "metadata": {
        "id": "RXK7soqMaKiH"
      },
      "execution_count": null,
      "outputs": []
    }
  ]
}